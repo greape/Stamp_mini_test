{
 "cells": [
  {
   "cell_type": "code",
   "execution_count": 1,
   "metadata": {},
   "outputs": [],
   "source": [
    "def prime_number(n): #create function to check if number is prime or not\n",
    "    if n <= 1: \n",
    "        return False\n",
    "    if n <= 3:\n",
    "        return True\n",
    "    if n % 2 == 0 or n % 3 == 0: \n",
    "        return False\n",
    "    i = 5\n",
    "    while i * i <= n: # it will be use to make boundary so the program not check until n \n",
    "        if n % i == 0 or n % (i + 2) == 0: # use 6k +-1 as a divider \n",
    "            return False\n",
    "        i += 6 # increment 6 for variable i \n",
    "    return True\n",
    "\n",
    "def foo_bar(num): # Creqate function to replace number that can be divide with 3 and 5 with foobar, can be divide by 3 but not by 5 with foo, can be divide by 5 but not by 3 with bar\n",
    "    if num % 3 == 0 and num % 5 == 0:\n",
    "        return \"FooBar\" \n",
    "    elif num % 3 == 0:\n",
    "        return \"Foo\"\n",
    "    elif num % 5 == 0:\n",
    "        return \"Bar\"\n",
    "    else:\n",
    "        return num # if the number can't be divide with 3 or 5 it will be return as number"
   ]
  },
  {
   "cell_type": "code",
   "execution_count": 6,
   "metadata": {},
   "outputs": [
    {
     "name": "stdout",
     "output_type": "stream",
     "text": [
      "Foo 98 Foo Bar 94 Foo 92 91 FooBar 88 Foo 86 Bar Foo 82 Foo Bar Foo 77 76 FooBar 74 Foo Bar Foo 68 Foo Bar 64 Foo 62 FooBar 58 Foo 56 Bar Foo 52 Foo Bar 49 Foo 46 FooBar 44 Foo Bar Foo 38 Foo Bar 34 Foo 32 FooBar 28 Foo 26 Bar Foo 22 Foo Bar Foo 16 FooBar 14 Foo Bar Foo 8 Foo 4 1 "
     ]
    }
   ],
   "source": [
    "numbers = list(range(1, 100)) # make list from 1 to 100 \n",
    "numbers.reverse() # reverse list so it will be from 100 to 1\n",
    "\n",
    "for num in numbers:\n",
    "    if not prime_number(num): # use if not so it will be return nonprime number\n",
    "        print(foo_bar(num), end=\" \") # nonprime number will be assign in foo_function and end =\" \" will make print sideway"
   ]
  }
 ],
 "metadata": {
  "kernelspec": {
   "display_name": "Python 3",
   "language": "python",
   "name": "python3"
  },
  "language_info": {
   "codemirror_mode": {
    "name": "ipython",
    "version": 3
   },
   "file_extension": ".py",
   "mimetype": "text/x-python",
   "name": "python",
   "nbconvert_exporter": "python",
   "pygments_lexer": "ipython3",
   "version": "3.12.0"
  }
 },
 "nbformat": 4,
 "nbformat_minor": 2
}
